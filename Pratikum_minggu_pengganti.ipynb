{
  "nbformat": 4,
  "nbformat_minor": 0,
  "metadata": {
    "colab": {
      "provenance": [],
      "authorship_tag": "ABX9TyNikCSTOjGmQH1Ch2gkB8+N",
      "include_colab_link": true
    },
    "kernelspec": {
      "name": "python3",
      "display_name": "Python 3"
    },
    "language_info": {
      "name": "python"
    }
  },
  "cells": [
    {
      "cell_type": "markdown",
      "metadata": {
        "id": "view-in-github",
        "colab_type": "text"
      },
      "source": [
        "<a href=\"https://colab.research.google.com/github/azizahulhusnah/Pemrograman-Dasar/blob/main/Pratikum_minggu_pengganti.ipynb\" target=\"_parent\"><img src=\"https://colab.research.google.com/assets/colab-badge.svg\" alt=\"Open In Colab\"/></a>"
      ]
    },
    {
      "cell_type": "code",
      "execution_count": null,
      "metadata": {
        "colab": {
          "base_uri": "https://localhost:8080/"
        },
        "id": "CDzjF0NhRzwv",
        "outputId": "0212340b-b493-4042-9c18-9607c119c5dd"
      },
      "outputs": [
        {
          "output_type": "stream",
          "name": "stdout",
          "text": [
            "Sistem siap. Selamat datang kembali di sesi praktikum.\n",
            "=== BIODATA LENGKAP ===\n",
            "Nama        : Azizah Ul Husnah\n",
            "NIM         : 230123456\n",
            "Program     : Teknik Elektro\n",
            "Kelas       : A\n",
            "Universitas : Politeknik XYZ\n",
            "========================\n"
          ]
        }
      ],
      "source": [
        "# SOAL 1: Fungsi Inisialisasi Sederhana\n",
        "def sapa_praktikan():\n",
        "    \"\"\"Mencetak pesan sambutan dasar.\"\"\"\n",
        "    print(\"Sistem siap. Selamat datang kembali di sesi praktikum.\")\n",
        "\n",
        "# Pemanggilan:\n",
        "sapa_praktikan()\n",
        "\n",
        "#modifikasi\n",
        "# Fungsi Biodata Lengkap\n",
        "def Biodata():\n",
        "    \"\"\"Menampilkan biodata lengkap.\"\"\"\n",
        "    print(\"=== BIODATA LENGKAP ===\")\n",
        "    print(\"Nama        : Azizah Ul Husnah\")\n",
        "    print(\"NIM         : 230123456\")\n",
        "    print(\"Program     : Teknik Elektro\")\n",
        "    print(\"Kelas       : A\")\n",
        "    print(\"Universitas : Politeknik XYZ\")\n",
        "    print(\"========================\")\n",
        "\n",
        "# Pemanggilan fungsi Biodata\n",
        "Biodata()\n"
      ]
    },
    {
      "cell_type": "code",
      "source": [
        "# SOAL 2: Menghitung Volume Kubus\n",
        "def hitung_volume_kubus(sisi):\n",
        "    \"\"\"Menghitung volume kubus dari panjang sisinya.\"\"\"\n",
        "    return sisi ** 3\n",
        "\n",
        "# Pemanggilan:\n",
        "panjang_sisi = 5\n",
        "print(f\"Volume kubus dengan sisi {panjang_sisi} adalah: {hitung_volume_kubus(panjang_sisi)}\")\n",
        "\n",
        "#modifikasi\n",
        "# Fungsi Menghitung Volume Balok\n",
        "def hitung_volume_balok(panjang, lebar, tinggi):\n",
        "    \"\"\"Menghitung volume balok dari panjang, lebar, dan tinggi.\"\"\"\n",
        "    return panjang * lebar * tinggi\n",
        "\n",
        "# Pemanggilan:\n",
        "p = 6\n",
        "l = 4\n",
        "t = 3\n",
        "print(f\"Volume balok dengan panjang {p}, lebar {l}, dan tinggi {t} adalah: {hitung_volume_balok(p, l, t)}\")\n"
      ],
      "metadata": {
        "colab": {
          "base_uri": "https://localhost:8080/"
        },
        "id": "OAx7JTUN2E7O",
        "outputId": "a5238f3f-7e2b-4d34-c193-2227fd72e779"
      },
      "execution_count": null,
      "outputs": [
        {
          "output_type": "stream",
          "name": "stdout",
          "text": [
            "Volume kubus dengan sisi 5 adalah: 125\n",
            "Volume balok dengan panjang 6, lebar 4, dan tinggi 3 adalah: 72\n"
          ]
        }
      ]
    },
    {
      "cell_type": "code",
      "source": [
        "# SOAL 3: Menghitung Rata-rata dari List Nilai\n",
        "def hitung_rata_rata(data_nilai):\n",
        "    \"\"\"Menghitung rata-rata dari list angka menggunakan perulangan for.\"\"\"\n",
        "    total = 0\n",
        "\n",
        "    # Perulangan untuk menjumlahkan nilai\n",
        "    for nilai in data_nilai:\n",
        "        total += nilai\n",
        "\n",
        "    # Pembagian untuk rata-rata\n",
        "    if total > 0:\n",
        "        return total / len(data_nilai)\n",
        "    return 0\n",
        "\n",
        "# Pemanggilan:\n",
        "nilai_praktikan = [85, 78, 92, 65, 90]\n",
        "print(f\"Nilai rata-rata kelas adalah: {hitung_rata_rata(nilai_praktikan)}\")\n",
        "\n",
        "#modifikasi\n",
        "# SOAL 3 (Modifikasi): Menghitung Rata-rata dengan Penalti Nilai Tidak Valid\n",
        "def hitung_rata_rata(data_nilai):\n",
        "    \"\"\"Menghitung rata-rata dari list angka dengan penalti untuk nilai tidak valid.\"\"\"\n",
        "    total = 0\n",
        "    jumlah_valid = 0\n",
        "\n",
        "    for nilai in data_nilai:\n",
        "        # Percabangan untuk memeriksa validitas nilai\n",
        "        if 0 <= nilai <= 100:\n",
        "            total += nilai\n",
        "            jumlah_valid += 1\n",
        "        elif nilai < 0:\n",
        "            print(f\"Nilai {nilai} diabaikan (terlalu kecil, dianggap 0).\")\n",
        "            total += 0   # Bisa juga diabaikan tanpa menambah jumlah_valid\n",
        "            jumlah_valid += 1  # Dihitung agar tidak mempengaruhi pembagi\n",
        "        elif nilai > 100:\n",
        "            print(f\"Nilai {nilai} terlalu besar, diberi penalti -10 poin.\")\n",
        "            total += (nilai - 10 if nilai - 10 >= 0 else 0)\n",
        "            jumlah_valid += 1\n",
        "\n",
        "    # Menghitung rata-rata\n",
        "    if jumlah_valid > 0:\n",
        "        return total / jumlah_valid\n",
        "    else:\n",
        "        return 0\n",
        "\n",
        "# Pemanggilan:\n",
        "nilai_praktikan = [85, 120, 92, -5, 90]\n",
        "print(f\"Nilai rata-rata kelas adalah: {hitung_rata_rata(nilai_praktikan)}\")\n"
      ],
      "metadata": {
        "colab": {
          "base_uri": "https://localhost:8080/"
        },
        "id": "SantBdP63jHd",
        "outputId": "77bd7310-ed2c-4011-cb02-670c2cbf8b9f"
      },
      "execution_count": null,
      "outputs": [
        {
          "output_type": "stream",
          "name": "stdout",
          "text": [
            "Nilai rata-rata kelas adalah: 82.0\n",
            "Nilai 120 terlalu besar, diberi penalti -10 poin.\n",
            "Nilai -5 diabaikan (terlalu kecil, dianggap 0).\n",
            "Nilai rata-rata kelas adalah: 75.4\n"
          ]
        }
      ]
    },
    {
      "cell_type": "code",
      "source": [
        "# SOAL 4: Sistem Penentuan Predikat Nilai\n",
        "def tentukan_predikat(skor):\n",
        "    \"\"\"Menentukan predikat (A, B, C, D, E) berdasarkan skor.\"\"\"\n",
        "    if skor >= 85:\n",
        "        return \"A\"\n",
        "    elif skor >= 70 :\n",
        "        return \"B\"\n",
        "    elif skor >= 60:\n",
        "        return \"c\"\n",
        "    elif skor >= 50:\n",
        "        return \"D\"\n",
        "    else:\n",
        "        return \"E\"\n",
        "\n",
        "# Pemanggilan:\n",
        "print(f\"Skor 75 mendapat predikat: {tentukan_predikat(75)}\")\n",
        "print(f\"Skor 48 mendapat predikat: {tentukan_predikat(48)}\")\n",
        "\n",
        "#modifikasi\n",
        "def tentukan_predikat(skor):\n",
        "    \"\"\"Menentukan predikat (A, B, C, D, E) berdasarkan skor, dengan validasi tipe data.\"\"\"\n",
        "\n",
        "    #Pengecekan tipe data\n",
        "    if not isinstance(skor, (int, float)):\n",
        "        return \"Input tidak valid! Nilai harus berupa angka (int atau float).\"\n",
        "\n",
        "    #Pengecekan rentang nilai\n",
        "    if skor < 0 or skor > 100:\n",
        "        return \"Skor di luar rentang! Masukkan nilai antara 0–100.\"\n",
        "\n",
        "    #Logika penentuan predikat\n",
        "    if skor >= 85:\n",
        "        return \"A\"\n",
        "    elif skor >= 70:\n",
        "        return \"B\"\n",
        "    elif skor >= 60:\n",
        "        return \"C\"\n",
        "    elif skor >= 50:\n",
        "        return \"D\"\n",
        "    else:\n",
        "        return \"E\"\n",
        "\n",
        "\n",
        "#Pemanggilan contoh:\n",
        "print(f\"Skor 92 mendapat predikat: {tentukan_predikat(92)}\")\n",
        "print(f\"Skor 75 mendapat predikat: {tentukan_predikat(75)}\")\n",
        "print(f\"Skor 48 mendapat predikat: {tentukan_predikat(48)}\")\n",
        "print(f\"Skor 'delapan puluh' mendapat predikat: {tentukan_predikat('delapan puluh')}\")\n",
        "print(f\"Skor 120 mendapat predikat: {tentukan_predikat(120)}\")\n",
        "\n",
        "\n"
      ],
      "metadata": {
        "colab": {
          "base_uri": "https://localhost:8080/"
        },
        "id": "DJuRAXiL5VVu",
        "outputId": "627b1b7d-c5fc-4647-9e7e-4f5ee38d92cd"
      },
      "execution_count": null,
      "outputs": [
        {
          "output_type": "stream",
          "name": "stdout",
          "text": [
            "Skor 75 mendapat predikat: B\n",
            "Skor 48 mendapat predikat: E\n",
            "Skor 92 mendapat predikat: A\n",
            "Skor 75 mendapat predikat: B\n",
            "Skor 48 mendapat predikat: E\n",
            "Skor 'delapan puluh' mendapat predikat: Input tidak valid! Nilai harus berupa angka (int atau float).\n",
            "Skor 120 mendapat predikat: Skor di luar rentang! Masukkan nilai antara 0–100.\n"
          ]
        }
      ]
    },
    {
      "cell_type": "code",
      "source": [
        "# SOAL 5: Menghitung Faktorial dengan Loop While\n",
        "def hitung_faktorial(n):\n",
        "    \"\"\"Menghitung faktorial dari bilangan positif n.\"\"\"\n",
        "    hasil = 1\n",
        "\n",
        "    # Perulangan berjalan selama n lebih besar dari 1\n",
        "    while n > 1:\n",
        "        hasil *= n\n",
        "        n  -= 1   # Kurangi n\n",
        "    return hasil\n",
        "\n",
        "# Pemanggilan:\n",
        "bilangan_n = 4\n",
        "print(f\"Faktorial dari {bilangan_n} adalah: {hitung_faktorial(bilangan_n)}\")  # Output: 24\n",
        "\n",
        "#modifikasi\n",
        "def hitung_faktorial(n):\n",
        "    \"\"\"Menghitung faktorial dari bilangan bulat positif n, dengan pengecekan kasus khusus.\"\"\"\n",
        "\n",
        "    # Kasus n negatif\n",
        "    if n < 0:\n",
        "        return \"Faktorial tidak terdefinisi untuk bilangan negatif.\"\n",
        "\n",
        "    # Kasus n = 0 (by definition 0! = 1)\n",
        "    if n == 0:\n",
        "        return 1\n",
        "\n",
        "    hasil = 1\n",
        "    while n > 1:\n",
        "        hasil *= n\n",
        "        n -= 1\n",
        "    return hasil\n",
        "\n",
        "# Pemanggilan:\n",
        "print(f\"Faktorial dari 4 adalah: {hitung_faktorial(4)}\")   # 24\n",
        "print(f\"Faktorial dari 0 adalah: {hitung_faktorial(0)}\")   # 1\n",
        "print(f\"Faktorial dari -3 adalah: {hitung_faktorial(-3)}\") # Faktorial tidak terdefinisi\n"
      ],
      "metadata": {
        "colab": {
          "base_uri": "https://localhost:8080/"
        },
        "id": "g_YNUkmw6Tff",
        "outputId": "b99b93be-d8bd-42e0-8c8d-eabf96e1efd9"
      },
      "execution_count": null,
      "outputs": [
        {
          "output_type": "stream",
          "name": "stdout",
          "text": [
            "Faktorial dari 4 adalah: 24\n",
            "Faktorial dari 4 adalah: 24\n",
            "Faktorial dari 0 adalah: 1\n",
            "Faktorial dari -3 adalah: Faktorial tidak terdefinisi untuk bilangan negatif.\n"
          ]
        }
      ]
    },
    {
      "cell_type": "code",
      "source": [
        "# SOAL 6: Analisis Data Suhu Ekstrem (for dan if/elif)\n",
        "def analisis_suhu(data_suhu):\n",
        "    \"\"\"Menghitung jumlah hari Panas dan Dingin dari data_suhu.\"\"\"\n",
        "    panas_count = 0\n",
        "    dingin_count = 0\n",
        "\n",
        "    for suhu in data_suhu:\n",
        "        if suhu >= 35:\n",
        "            panas_count += 1\n",
        "        elif suhu <= 15:\n",
        "            dingin_count += 1\n",
        "\n",
        "    return panas_count, dingin_count\n",
        "\n",
        "# Pemanggilan:\n",
        "suhu_mingguan = [36, 30, 14, 25, 38, 16, 28]\n",
        "jumlah_panas, jumlah_dingin = analisis_suhu(suhu_mingguan)\n",
        "print(f\"Jumlah hari Panas (>=35°C): {jumlah_panas}\")\n",
        "print(f\"Jumlah hari Dingin (<=15°C): {jumlah_dingin}\")\n",
        "\n",
        "#modifikasi\n",
        "def analisis_suhu(data_suhu, batas_panas=35, batas_dingin=15):\n",
        "    \"\"\"Menghitung jumlah hari Panas dan Dingin dari data_suhu dengan batas yang dapat disesuaikan.\"\"\"\n",
        "    panas_count = 0\n",
        "    dingin_count = 0\n",
        "\n",
        "    for suhu in data_suhu:\n",
        "        if suhu >= batas_panas:\n",
        "            panas_count += 1\n",
        "        elif suhu <= batas_dingin:\n",
        "            dingin_count += 1\n",
        "\n",
        "    return panas_count, dingin_count\n",
        "\n",
        "\n",
        "# Pemanggilan contoh 1 (menggunakan batas default)\n",
        "suhu_mingguan = [36, 30, 14, 25, 38, 16, 28]\n",
        "jumlah_panas, jumlah_dingin = analisis_suhu(suhu_mingguan)\n",
        "print(f\"Jumlah hari Panas (>=35°C): {jumlah_panas}\")\n",
        "print(f\"Jumlah hari Dingin (<=15°C): {jumlah_dingin}\")\n",
        "\n",
        "# Pemanggilan contoh 2 (menggunakan batas yang diubah)\n",
        "jumlah_panas2, jumlah_dingin2 = analisis_suhu(suhu_mingguan, batas_panas=33, batas_dingin=18)\n",
        "print(f\"\\nDengan batas panas=33°C dan dingin=18°C:\")\n",
        "print(f\"Jumlah hari Panas: {jumlah_panas2}\")\n",
        "print(f\"Jumlah hari Dingin: {jumlah_dingin2}\")\n"
      ],
      "metadata": {
        "colab": {
          "base_uri": "https://localhost:8080/"
        },
        "id": "JuK8eG1N8eVu",
        "outputId": "91f9a6fb-a2ca-49a8-8688-401205b3e368"
      },
      "execution_count": null,
      "outputs": [
        {
          "output_type": "stream",
          "name": "stdout",
          "text": [
            "Jumlah hari Panas (>=35°C): 2\n",
            "Jumlah hari Dingin (<=15°C): 1\n",
            "modifikasi\n",
            "Jumlah hari Panas (>=35°C): 2\n",
            "Jumlah hari Dingin (<=15°C): 1\n",
            "\n",
            "Dengan batas panas=33°C dan dingin=18°C:\n",
            "Jumlah hari Panas: 2\n",
            "Jumlah hari Dingin: 2\n"
          ]
        }
      ]
    }
  ]
}