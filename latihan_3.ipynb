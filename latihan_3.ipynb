{
  "nbformat": 4,
  "nbformat_minor": 0,
  "metadata": {
    "colab": {
      "provenance": [],
      "authorship_tag": "ABX9TyP4+Z0esjTBBhVeYnMMs5CK",
      "include_colab_link": true
    },
    "kernelspec": {
      "name": "python3",
      "display_name": "Python 3"
    },
    "language_info": {
      "name": "python"
    }
  },
  "cells": [
    {
      "cell_type": "markdown",
      "metadata": {
        "id": "view-in-github",
        "colab_type": "text"
      },
      "source": [
        "<a href=\"https://colab.research.google.com/github/azizahulhusnah/Pemrograman-Dasar/blob/main/latihan_3.ipynb\" target=\"_parent\"><img src=\"https://colab.research.google.com/assets/colab-badge.svg\" alt=\"Open In Colab\"/></a>"
      ]
    },
    {
      "cell_type": "code",
      "source": [
        "# input tahun\n",
        "\n",
        "tahun = int(input(\"Masukkan tahun: \"))\n",
        "\n",
        "# ekspresi logika kabisat\n",
        "hasil = (tahun % 4 == 0 and tahun % 100 != 0) or (tahun % 400 == 0)\n",
        "\n",
        "# output\n",
        "print(f\"{tahun} adalah tahun kabisat.\" and hasil or f\"{tahun} bukan tahun kabisat.\")\n",
        "print(\"tahun :\", tahun)\n",
        "print(\"apakah kabisat?\", hasil)\n"
      ],
      "metadata": {
        "colab": {
          "base_uri": "https://localhost:8080/"
        },
        "id": "Xe455yfJaAWS",
        "outputId": "44b67cbb-b39f-4ad1-a9ad-075d44f195b2"
      },
      "execution_count": null,
      "outputs": [
        {
          "output_type": "stream",
          "name": "stdout",
          "text": [
            "Masukkan tahun: 2024\n",
            "True\n",
            "tahun : 2024\n",
            "apakah kabisat? True\n"
          ]
        }
      ]
    },
    {
      "cell_type": "code",
      "source": [
        "# Program Aritmatika Sederhana\n",
        "\n",
        "# Fungsi input\n",
        "angka1 = float(input(\"Masukkan angka pertama: \"))\n",
        "angka2 = float(input(\"Masukkan angka kedua: \"))\n",
        "\n",
        "# Operasi aritmatika\n",
        "penjumlahan   = angka1 + angka2\n",
        "pengurangan   = angka1 - angka2\n",
        "perkalian     = angka1 * angka2\n",
        "pembagian     = angka1 / angka2\n",
        "\n",
        "# Fungsi output\n",
        "print(\"\\nHasil Operasi Aritmatika\")\n",
        "print(f\"{angka1} + {angka2} = {penjumlahan}\")\n",
        "print(f\"{angka1} - {angka2} = {pengurangan}\")\n",
        "print(f\"{angka1} * {angka2} = {perkalian}\")\n",
        "print(f\"{angka1} / {angka2} = {pembagian}\")\n"
      ],
      "metadata": {
        "colab": {
          "base_uri": "https://localhost:8080/"
        },
        "id": "jAheGg5FacCj",
        "outputId": "a267fc4a-b689-488e-f697-57a5569cb90b"
      },
      "execution_count": null,
      "outputs": [
        {
          "output_type": "stream",
          "name": "stdout",
          "text": [
            "Masukkan angka pertama: 18\n",
            "Masukkan angka kedua: 28\n",
            "\n",
            "Hasil Operasi Aritmatika\n",
            "18.0 + 28.0 = 46.0\n",
            "18.0 - 28.0 = -10.0\n",
            "18.0 * 28.0 = 504.0\n",
            "18.0 / 28.0 = 0.6428571428571429\n"
          ]
        }
      ]
    }
  ]
}