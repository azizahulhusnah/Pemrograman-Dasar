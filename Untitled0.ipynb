{
  "nbformat": 4,
  "nbformat_minor": 0,
  "metadata": {
    "colab": {
      "provenance": [],
      "authorship_tag": "ABX9TyOP5hKdwRYpSrkm8HD5R6AO",
      "include_colab_link": true
    },
    "kernelspec": {
      "name": "python3",
      "display_name": "Python 3"
    },
    "language_info": {
      "name": "python"
    }
  },
  "cells": [
    {
      "cell_type": "markdown",
      "metadata": {
        "id": "view-in-github",
        "colab_type": "text"
      },
      "source": [
        "<a href=\"https://colab.research.google.com/github/azizahulhusnah/Pemrograman-Dasar/blob/main/Untitled0.ipynb\" target=\"_parent\"><img src=\"https://colab.research.google.com/assets/colab-badge.svg\" alt=\"Open In Colab\"/></a>"
      ]
    },
    {
      "cell_type": "code",
      "execution_count": null,
      "metadata": {
        "colab": {
          "base_uri": "https://localhost:8080/"
        },
        "id": "I3jEUqpFc0Ff",
        "outputId": "f0fffea0-01b4-4ac4-ef4c-750acec1c7c3"
      },
      "outputs": [
        {
          "output_type": "stream",
          "name": "stdout",
          "text": [
            "azizah\n",
            "4232401017\n",
            "20\n",
            "ELEKTRO\n",
            "3\n",
            "pemerograman dasar\n",
            "False\n",
            "Tanjung Balai Karimun, 18 n0vember 2025\n",
            "perumahan taman marchelia blok B No 6\n",
            "perempuan\n",
            "islam\n",
            "81261347657\n",
            "@azizahulhusnah\n",
            "ulhusnahaazizah@gmail.com\n",
            "<class 'str'>\n",
            "<class 'str'>\n",
            "<class 'int'>\n",
            "<class 'str'>\n",
            "<class 'int'>\n",
            "<class 'str'>\n",
            "<class 'bool'>\n",
            "<class 'str'>\n",
            "<class 'str'>\n",
            "<class 'str'>\n",
            "<class 'str'>\n",
            "<class 'int'>\n",
            "<class 'str'>\n",
            "<class 'str'>\n"
          ]
        }
      ],
      "source": [
        "# Biodata Saya\n",
        "# ===============================\n",
        "# Praktikum Pemrograman Dasar\n",
        "# Google Colab Notebook\n",
        "# ===============================\n",
        "\n",
        "\n",
        "# 1. Definisi Variabel\n",
        "nama = \"azizah\"\n",
        "nim = \"4232401017\"\n",
        "umur = 20\n",
        "jurusan = \"ELEKTRO\"\n",
        "semester = 3\n",
        "matakuliah = 'pemerograman dasar'\n",
        "status_lulus = False\n",
        "tempat_dan_tanggal_lahir = \"Tanjung Balai Karimun, 18 n0vember 2025\"\n",
        "alamat = \"perumahan taman marchelia blok B No 6\"\n",
        "jenis_kelamin = \"perempuan\"\n",
        "agama = \"islam\"\n",
        "nomor_telepon = 81261347657\n",
        "instagram = \"@azizahulhusnah\"\n",
        "email = \"ulhusnahaazizah@gmail.com\"\n",
        "\n",
        "# 2. Menampilkan Data\n",
        "print (nama)\n",
        "print (nim)\n",
        "print (umur)\n",
        "print (jurusan)\n",
        "print (semester)\n",
        "print (matakuliah)\n",
        "print (status_lulus)\n",
        "print (tempat_dan_tanggal_lahir)\n",
        "print (alamat)\n",
        "print (jenis_kelamin)\n",
        "print (agama)\n",
        "print (nomor_telepon)\n",
        "print (instagram)\n",
        "print (email)\n",
        "\n",
        "# 3. menampilkan jenis type dataa\n",
        "print (type(nama))\n",
        "print (type(nim))\n",
        "print (type(umur))\n",
        "print (type(jurusan))\n",
        "print (type(semester))\n",
        "print (type(matakuliah))\n",
        "print (type(status_lulus))\n",
        "print (type(tempat_dan_tanggal_lahir))\n",
        "print (type(alamat))\n",
        "print (type(jenis_kelamin))\n",
        "print (type(agama))\n",
        "print (type(nomor_telepon))\n",
        "print (type(instagram))\n",
        "print (type(email))\n",
        "\n",
        "\n",
        "\n",
        "\n",
        "\n",
        "\n",
        "\n",
        "\n"
      ]
    },
    {
      "cell_type": "code",
      "source": [],
      "metadata": {
        "id": "y0x6_KGzdSye"
      },
      "execution_count": null,
      "outputs": []
    },
    {
      "cell_type": "markdown",
      "source": [
        "# Bagian Baru"
      ],
      "metadata": {
        "id": "VtHPNkbGpwQi"
      }
    },
    {
      "cell_type": "code",
      "source": [
        "# Biodata dengan tipe data non-primitif\n",
        "\n",
        "#list\n",
        "hobi = [\"membaca\", \"menulis\", \"badminton\"]\n",
        "\n",
        "#tuple\n",
        "data_diri = (\"azizah\", \"4232401017\", \"elektro\")\n",
        "\n",
        "#set\n",
        "skill = {\"python\", \"matematika\", \"public speaking\"}\n",
        "\n",
        "#dictionary\n",
        "biodata = {\n",
        "\"nama\": \"azizah\",\n",
        "\"umur\" : 20,\n",
        "\"jurusan\" : \"ELEKTRO\",\n",
        "\"semester\" : 3,\n",
        "\"matakuliah\" : \"pemerograman dasar\",\n",
        "\"status_lulus\" : False\n",
        "}\n",
        "\n",
        "print(\"data diri\", data_diri)\n",
        "print(\"hobi\", hobi)\n",
        "print(\"skill\", skill)\n",
        "print(\"biodata\", biodata)"
      ],
      "metadata": {
        "colab": {
          "base_uri": "https://localhost:8080/"
        },
        "id": "U-RQ4jYGpAC7",
        "outputId": "76400266-e490-4767-ed2b-dc0455aae315"
      },
      "execution_count": null,
      "outputs": [
        {
          "output_type": "stream",
          "name": "stdout",
          "text": [
            "data diri ('azizah', '4232401017', 'elektro')\n",
            "hobi ['membaca', 'menulis', 'badminton']\n",
            "skill {'matematika', 'python', 'public speaking'}\n",
            "biodata {'nama': 'azizah', 'umur': 20, 'jurusan': 'ELEKTRO', 'semester': 3, 'matakuliah': 'pemerograman dasar', 'status_lulus': False}\n"
          ]
        }
      ]
    },
    {
      "cell_type": "code",
      "source": [],
      "metadata": {
        "id": "pwWUSOLwdZiO"
      },
      "execution_count": null,
      "outputs": []
    },
    {
      "cell_type": "code",
      "source": [
        "#program dengan aannotation\n",
        "\n",
        "# Variabel dengan anotasi tipe data\n",
        "nama: str = \"Azizah\"\n",
        "umur: int = 20\n",
        "jurusan: str = \"Elektro\"\n",
        "ipk: float = 3.85\n",
        "status_lulus: bool = False\n",
        "\n",
        "# List dengan anotasi\n",
        "hobi: list[str] = [\"Membaca\", \"Menulis\", \"Olahraga\"]\n",
        "\n",
        "# Dictionary dengan anotasi\n",
        "biodata: dict[str, str | int | float | bool] = {\n",
        "    \"Nama\": nama,\n",
        "    \"Umur\": umur,\n",
        "    \"Jurusan\": jurusan,\n",
        "    \"IPK\": ipk,\n",
        "    \"Lulus\": status_lulus\n",
        "}\n",
        "\n",
        "# Fungsi dengan anotasi parameter dan return\n",
        "def hitung_rata(nilai1: float, nilai2: float, nilai3: float) -> float:\n",
        "    return (nilai1 + nilai2 + nilai3) / 3\n",
        "\n",
        "\n",
        "# Output program\n",
        "print(\"=== BIODATA MAHASISWA ===\")\n",
        "for key, value in biodata.items():\n",
        "    print(f\"{key}: {value}\")\n",
        "\n",
        "print(\"\\nHobi:\", \", \".join(hobi))\n",
        "print(\"Rata-rata Nilai:\", hitung_rata(85.0,90.0,88.5))"
      ],
      "metadata": {
        "colab": {
          "base_uri": "https://localhost:8080/"
        },
        "id": "5CU8EK4jwFyM",
        "outputId": "f1edb075-296d-4fee-cd8b-f7a12108ef4e"
      },
      "execution_count": null,
      "outputs": [
        {
          "output_type": "stream",
          "name": "stdout",
          "text": [
            "=== BIODATA MAHASISWA ===\n",
            "Nama: Azizah\n",
            "Umur: 20\n",
            "Jurusan: Elektro\n",
            "IPK: 3.85\n",
            "Lulus: False\n",
            "\n",
            "Hobi: Membaca, Menulis, Olahraga\n",
            "Rata-rata Nilai: 87.83333333333333\n"
          ]
        }
      ]
    },
    {
      "cell_type": "code",
      "source": [
        "# Program Sederhana Biodata dengan Tipe Data Non-Primitif\n",
        "\n",
        "# 1. List\n",
        "biodata_list = [\"Azizah\", 20, \"RPE\", 3, \"Pemrograman Dasar\", False]\n",
        "\n",
        "print(\"=== Biodata (List) ===\")\n",
        "print(\"Nama         :\", biodata_list[0])\n",
        "print(\"Umur         :\", biodata_list[1])\n",
        "print(\"Jurusan      :\", biodata_list[2])\n",
        "print(\"Semester     :\", biodata_list[3])\n",
        "print(\"Mata Kuliah  :\", biodata_list[4])\n",
        "print(\"Status Lulus :\", biodata_list[5])\n",
        "print()\n",
        "\n",
        "\n",
        "# 2. Tuple\n",
        "biodata_tuple = (\"Azizah\", 20, \"RPE\", 3, \"Pemrograman Dasar\", False)\n",
        "\n",
        "print(\"=== Biodata (Tuple) ===\")\n",
        "print(\"Nama         :\", biodata_tuple[0])\n",
        "print(\"Umur         :\", biodata_tuple[1])\n",
        "print(\"Jurusan      :\", biodata_tuple[2])\n",
        "print(\"Semester     :\", biodata_tuple[3])\n",
        "print(\"Mata Kuliah  :\", biodata_tuple[4])\n",
        "print(\"Status Lulus :\", biodata_tuple[5])\n",
        "print()\n",
        "\n",
        "\n",
        "# 3. Set\n",
        "biodata_set = {\"Azizah\", 20, \"RPE\", 3, \"Pemrograman Dasar\", False}\n",
        "\n",
        "print(\"=== Biodata (Set) ===\")\n",
        "for data in biodata_set:\n",
        "    print(data)\n",
        "print()\n",
        "\n",
        "\n",
        "# 4. Dictionary\n",
        "biodata_dict = {\n",
        "    \"Nama\": \"Azizah\",\n",
        "    \"Umur\": 20,\n",
        "    \"Jurusan\": \"RPE\",\n",
        "    \"Semester\": 3,\n",
        "    \"Mata Kuliah\": \"Pemrograman Dasar\",\n",
        "    \"Status Lulus\": False\n",
        "}\n",
        "\n",
        "print(\"=== Biodata (Dictionary) ===\")\n",
        "for key, value in biodata_dict.items():\n",
        "    print(f\"{key.ljust(12)}: {value}\")\n"
      ],
      "metadata": {
        "colab": {
          "base_uri": "https://localhost:8080/"
        },
        "id": "u0579GKL48gj",
        "outputId": "2a066660-d5cd-41d1-b706-298cf0c3a74f"
      },
      "execution_count": null,
      "outputs": [
        {
          "output_type": "stream",
          "name": "stdout",
          "text": [
            "=== Biodata (List) ===\n",
            "Nama         : Azizah\n",
            "Umur         : 20\n",
            "Jurusan      : RPE\n",
            "Semester     : 3\n",
            "Mata Kuliah  : Pemrograman Dasar\n",
            "Status Lulus : False\n",
            "\n",
            "=== Biodata (Tuple) ===\n",
            "Nama         : Azizah\n",
            "Umur         : 20\n",
            "Jurusan      : RPE\n",
            "Semester     : 3\n",
            "Mata Kuliah  : Pemrograman Dasar\n",
            "Status Lulus : False\n",
            "\n",
            "=== Biodata (Set) ===\n",
            "False\n",
            "Azizah\n",
            "3\n",
            "20\n",
            "Pemrograman Dasar\n",
            "RPE\n",
            "\n",
            "=== Biodata (Dictionary) ===\n",
            "Nama        : Azizah\n",
            "Umur        : 20\n",
            "Jurusan     : RPE\n",
            "Semester    : 3\n",
            "Mata Kuliah : Pemrograman Dasar\n",
            "Status Lulus: False\n"
          ]
        }
      ]
    },
    {
      "cell_type": "code",
      "source": [
        "\n",
        "\n"
      ],
      "metadata": {
        "id": "NaRdMfG8HSE8"
      },
      "execution_count": null,
      "outputs": []
    },
    {
      "cell_type": "code",
      "source": [],
      "metadata": {
        "id": "ky5lb2BfHas8"
      },
      "execution_count": null,
      "outputs": []
    },
    {
      "cell_type": "code",
      "source": [
        "# Program Biodata dengan Non-Primitif\n",
        "\n",
        "# 1. Tuple (data tetap)\n",
        "biodata_tuple = (\"Azizah\", 20, \"RPE\", 3, \"Pemrograman Dasar\", False)\n",
        "\n",
        "# 2. List (data bisa diubah)\n",
        "biodata_list = [\"Azizah\", 20, \"RPE\", 3, \"Pemrograman Dasar\", False]\n",
        "\n",
        "# 3. Set (data unik, tidak duplikat, urutan acak)\n",
        "biodata_set = {\"Azizah\", 20, \"RPE\", 3, \"Pemrograman Dasar\", False}\n",
        "\n",
        "# 4. Dictionary (key-value)\n",
        "biodata_dict = {\n",
        "    \"Nama\": \"Azizah\",\n",
        "    \"Umur\": 20,\n",
        "    \"Jurusan\": \"RPE\",\n",
        "    \"Semester\": 3,\n",
        "    \"Mata Kuliah\": \"Pemrograman Dasar\",\n",
        "    \"Status Lulus\": False\n",
        "}\n",
        "\n",
        "# ---------------- CETAK DATA ----------------\n",
        "\n",
        "# Tuple\n",
        "print(\"========== BIODATA (Tuple) ==========\")\n",
        "print(f\"Nama           : {biodata_tuple[0]}\")\n",
        "print(f\"Umur           : {biodata_tuple[1]} tahun\")\n",
        "print(f\"Jurusan        : {biodata_tuple[2]}\")\n",
        "print(f\"Semester       : {biodata_tuple[3]}\")\n",
        "print(f\"Mata Kuliah    : {biodata_tuple[4]}\")\n",
        "print(f\"Status Lulus   : {biodata_tuple[5]}\")\n",
        "\n",
        "# List\n",
        "print(\"\\n========== BIODATA (List) ==========\")\n",
        "for i, item in enumerate(biodata_list):\n",
        "    print(f\"Data ke-{i+1} : {item}\")\n",
        "\n",
        "# Set\n",
        "print(\"\\n========== BIODATA (Set) ==========\")\n",
        "for item in biodata_set:\n",
        "    print(f\"- {item}\")\n",
        "\n",
        "# Dictionary\n",
        "print(\"\\n========== BIODATA (Dictionary) ==========\")\n",
        "for key, value in biodata_dict.items():\n",
        "    print(f\"{key:<15}: {value}\")"
      ],
      "metadata": {
        "colab": {
          "base_uri": "https://localhost:8080/"
        },
        "id": "qPcc0vtkFWi3",
        "outputId": "62821fb8-c3c0-496e-f3d4-da9a39813e7f"
      },
      "execution_count": null,
      "outputs": [
        {
          "output_type": "stream",
          "name": "stdout",
          "text": [
            "========== BIODATA (Tuple) ==========\n",
            "Nama           : Azizah\n",
            "Umur           : 20 tahun\n",
            "Jurusan        : RPE\n",
            "Semester       : 3\n",
            "Mata Kuliah    : Pemrograman Dasar\n",
            "Status Lulus   : False\n",
            "\n",
            "========== BIODATA (List) ==========\n",
            "Data ke-1 : Azizah\n",
            "Data ke-2 : 20\n",
            "Data ke-3 : RPE\n",
            "Data ke-4 : 3\n",
            "Data ke-5 : Pemrograman Dasar\n",
            "Data ke-6 : False\n",
            "\n",
            "========== BIODATA (Set) ==========\n",
            "- False\n",
            "- Azizah\n",
            "- 3\n",
            "- 20\n",
            "- Pemrograman Dasar\n",
            "- RPE\n",
            "\n",
            "========== BIODATA (Dictionary) ==========\n",
            "Nama           : Azizah\n",
            "Umur           : 20\n",
            "Jurusan        : RPE\n",
            "Semester       : 3\n",
            "Mata Kuliah    : Pemrograman Dasar\n",
            "Status Lulus   : False\n"
          ]
        }
      ]
    },
    {
      "cell_type": "code",
      "source": [
        "# List\n",
        "biodata_list = [\"Azizah\", 20, \"RPE\", 3, \"Pemrograman Dasar\", False]\n",
        "\n",
        "# Tuple\n",
        "biodata_tuple = (\"Azizah\", 20, \"RPE\", 3, \"Pemrograman Dasar\", False)\n",
        "\n",
        "# Set\n",
        "biodata_set = {\"Azizah\", 20, \"RPE\", 3, \"Pemrograman Dasar\", False}\n",
        "\n",
        "# Dictionary\n",
        "biodata_dict = {\n",
        "    \"nama\": \"Azizah\",\n",
        "    \"umur\": 20,\n",
        "    \"jurusan\": \"RPE\",\n",
        "    \"semester\": 3,\n",
        "    \"matakuliah\": \"Pemrograman Dasar\",\n",
        "    \"status_lulus\": False\n",
        "}\n",
        "\n",
        "print(\"List :\", biodata_list)\n",
        "print(\"Tuple :\", biodata_tuple)\n",
        "print(\"Set :\", biodata_set)\n",
        "print(\"Dictionary :\", biodata_dict)"
      ],
      "metadata": {
        "colab": {
          "base_uri": "https://localhost:8080/"
        },
        "id": "4TakGGcdHc27",
        "outputId": "a8592f91-cbc6-48ad-b423-d897c01c8c5f"
      },
      "execution_count": null,
      "outputs": [
        {
          "output_type": "stream",
          "name": "stdout",
          "text": [
            "List : ['Azizah', 20, 'RPE', 3, 'Pemrograman Dasar', False]\n",
            "Tuple : ('Azizah', 20, 'RPE', 3, 'Pemrograman Dasar', False)\n",
            "Set : {False, 'Azizah', 3, 20, 'Pemrograman Dasar', 'RPE'}\n",
            "Dictionary : {'nama': 'Azizah', 'umur': 20, 'jurusan': 'RPE', 'semester': 3, 'matakuliah': 'Pemrograman Dasar', 'status_lulus': False}\n"
          ]
        }
      ]
    },
    {
      "cell_type": "code",
      "source": [
        "# Data biodata dengan annotation\n",
        "nama: str = \"Azizah\"\n",
        "umur: int = 20\n",
        "jurusan: str = \"RPE\"\n",
        "semester: int = 3\n",
        "matakuliah: str = \"Pemrograman Dasar\"\n",
        "status_lulus: bool = False\n",
        "\n",
        "print(\"Nama       :\", nama)\n",
        "print(\"Umur       :\", umur)\n",
        "print(\"Jurusan    :\", jurusan)\n",
        "print(\"Semester   :\", semester)\n",
        "print(\"Matakuliah :\", matakuliah)\n",
        "print(\"Status Lulus:\", status_lulus)"
      ],
      "metadata": {
        "colab": {
          "base_uri": "https://localhost:8080/"
        },
        "id": "ZVDL2BMSKdo1",
        "outputId": "391988a6-4195-4406-ae9f-4122198ec3fe"
      },
      "execution_count": null,
      "outputs": [
        {
          "output_type": "stream",
          "name": "stdout",
          "text": [
            "Nama       : Azizah\n",
            "Umur       : 20\n",
            "Jurusan    : RPE\n",
            "Semester   : 3\n",
            "Matakuliah : Pemrograman Dasar\n",
            "Status Lulus: False\n"
          ]
        }
      ]
    }
  ]
}