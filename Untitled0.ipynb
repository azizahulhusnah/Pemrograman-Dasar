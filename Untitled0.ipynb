{
  "nbformat": 4,
  "nbformat_minor": 0,
  "metadata": {
    "colab": {
      "provenance": [],
      "authorship_tag": "ABX9TyMCQgv3AEm3W+EFsGDbWCfo",
      "include_colab_link": true
    },
    "kernelspec": {
      "name": "python3",
      "display_name": "Python 3"
    },
    "language_info": {
      "name": "python"
    }
  },
  "cells": [
    {
      "cell_type": "markdown",
      "metadata": {
        "id": "view-in-github",
        "colab_type": "text"
      },
      "source": [
        "<a href=\"https://colab.research.google.com/github/azizahulhusnah/Pemrograman-Dasar/blob/main/Untitled0.ipynb\" target=\"_parent\"><img src=\"https://colab.research.google.com/assets/colab-badge.svg\" alt=\"Open In Colab\"/></a>"
      ]
    },
    {
      "cell_type": "code",
      "execution_count": 3,
      "metadata": {
        "colab": {
          "base_uri": "https://localhost:8080/"
        },
        "id": "RW-OeztXfUOw",
        "outputId": "8796694b-d0f6-4415-83c7-3c000140318a"
      },
      "outputs": [
        {
          "name": "stdout",
          "output_type": "stream",
          "text": [
            "berapa porsi makan yang kamu beli? : 2\n",
            "siapa nama pelanggan ? : jijah\n"
          ]
        }
      ],
      "source": [
        "total = input(\"berapa porsi makan yang kamu beli? : \")\n",
        "nama = input(\"siapa nama pelanggan ? : \" )"
      ]
    },
    {
      "cell_type": "code",
      "source": [
        "total = int (input(\"berapa porsi makan yang anda beli? : \"))\n",
        "nama = str (input(\"siapa nama pelanggan ? : \"))\n",
        "\n",
        "print()\n",
        "#mengbah dalam bentuk float\n",
        "\n",
        "total = float (input(\"berapa porsi makan yang anda beli? : \"))\n",
        "nama = str (input(\"siapa nama pelanggan ? : \"))\n",
        "\n",
        "\n"
      ],
      "metadata": {
        "colab": {
          "base_uri": "https://localhost:8080/"
        },
        "id": "WwxkClhtghyJ",
        "outputId": "b00e80fa-cc44-40c4-e1b6-f2568cae735b"
      },
      "execution_count": 20,
      "outputs": [
        {
          "name": "stdout",
          "output_type": "stream",
          "text": [
            "berapa porsi makan yang anda beli? : 2\n",
            "siapa nama pelanggan ? : jijah\n",
            "\n",
            "berapa porsi makan yang anda beli? : 2\n",
            "siapa nama pelanggan ? : jijah\n"
          ]
        }
      ]
    },
    {
      "cell_type": "code",
      "source": [
        "#program input dengan type data float\n",
        "\n",
        "food = \"mi ayam bakso\"\n",
        "print(\"Hendi sedang memesan\", food)\n",
        "\n"
      ],
      "metadata": {
        "colab": {
          "base_uri": "https://localhost:8080/"
        },
        "id": "DgYIOwFIhVZ7",
        "outputId": "ff06b133-fe54-465e-c34e-a2ad68d8bfb8"
      },
      "execution_count": 5,
      "outputs": [
        {
          "output_type": "stream",
          "name": "stdout",
          "text": [
            "Hendi sedang memesan mi ayam bakso\n"
          ]
        }
      ]
    },
    {
      "cell_type": "code",
      "source": [
        "food = \"mi ayam bakso\"\n",
        "print(\"hendi sedang memesan\", food)\n",
        "print(\"hendi sedang memesan \"+ food)\n",
        "print(\"hendi sedang memesan %s\" % (food))"
      ],
      "metadata": {
        "colab": {
          "base_uri": "https://localhost:8080/"
        },
        "id": "ObdONr7Rhoap",
        "outputId": "fe165597-4693-4521-dd87-1188cc37cd1c"
      },
      "execution_count": 17,
      "outputs": [
        {
          "output_type": "stream",
          "name": "stdout",
          "text": [
            "hendi sedang memesan mi ayam bakso\n",
            "hendi sedang memesan mi ayam bakso\n",
            "hendi sedang memesan mi ayam bakso\n"
          ]
        }
      ]
    },
    {
      "cell_type": "code",
      "source": [
        "# Integer (%d)\n",
        "jumlah = 2\n",
        "print(\"saya membeli %d porsi mi ayam\" % (jumlah))\n",
        "\n",
        "# float (%f)\n",
        "berat_badan = 46.2\n",
        "print(\"berat badan saya adalah %f kg\" % (berat_badan))\n",
        "\n",
        "#string (%s)\n",
        "alamat = \"perumahan taman marcelia\"\n",
        "print(\"alamat rumah saya adalah %s\" % (alamat))\n",
        "\n",
        "#hexadesimal (%x)\n",
        "angka = 225\n",
        "print(\"angka 225 dalam hexadesimal adalah %x\" % (angka))\n",
        "\n",
        "#octal (%o)\n",
        "bilangan = 17\n",
        "print(\"bilangan 17 dalam bilangan octal adalah %o\" % (bilangan))\n",
        "\n",
        "\n",
        "\n",
        "\n",
        "\n",
        "\n"
      ],
      "metadata": {
        "colab": {
          "base_uri": "https://localhost:8080/"
        },
        "id": "nUxs6AT5nyVX",
        "outputId": "d2cd977c-5fc3-4ab6-8cf0-2fb8d831651f"
      },
      "execution_count": 35,
      "outputs": [
        {
          "output_type": "stream",
          "name": "stdout",
          "text": [
            "saya membeli 2 porsi mi ayam\n",
            "berat badan saya adalah 46.200000 kg\n",
            "alamat rumah saya adalah perumahan taman marcelia\n",
            "angka 225 dalam hexadesimal adalah e1\n",
            "bilangan 17 dalam bilangan octal adalah 21\n"
          ]
        }
      ]
    },
    {
      "cell_type": "code",
      "source": [
        "a = 20\n",
        "b = 5\n",
        "\n",
        "print(\"Penjumlahan:\", a + b)\n",
        "print(\"Pengurangan:\", a - b)\n",
        "print(\"Perkalian:\", a * b)\n",
        "print(\"Pembagian:\", a / b)\n",
        "\n",
        "\n",
        "bilangan = 8\n",
        "hasil = (bilangan > 0) and (bilangan % 2 == 0)\n",
        "print(\"Genap dan positif?\", hasil)\n",
        "\n",
        "\n",
        "harga_makan = int(input(\"Berapa harga mi ayam per porsi? \"))\n",
        "jumlah_makan = int(input(\"Berapa porsi yang Anda beli? \"))\n",
        "total_makan = harga_makan * jumlah_makan\n",
        "print(f\"Harga makan per porsi = {harga_makan}, totalnya adalah {total_makan}\")"
      ],
      "metadata": {
        "colab": {
          "base_uri": "https://localhost:8080/"
        },
        "id": "jrUWUevHwgSs",
        "outputId": "4f79e1d1-e668-405c-b9e2-8476ba90d830"
      },
      "execution_count": 40,
      "outputs": [
        {
          "output_type": "stream",
          "name": "stdout",
          "text": [
            "Penjumlahan: 25\n",
            "Pengurangan: 15\n",
            "Perkalian: 100\n",
            "Pembagian: 4.0\n",
            "Genap dan positif? True\n",
            "Berapa harga mi ayam per porsi? 20\n",
            "Berapa porsi yang Anda beli? 1\n",
            "Harga makan per porsi = 20, totalnya adalah 20\n"
          ]
        }
      ]
    },
    {
      "cell_type": "code",
      "source": [
        "#konversi waktu\n",
        "total_detik = 358200\n",
        "jam = total_detik // 3600\n",
        "sisa_detik = total_detik  % 3600\n",
        "menit = sisa_detik // 60\n",
        "detik = sisa_detik % 60\n",
        "\n",
        "print(f\"hasil konversi: {jam} jam, {menit} menit, {detik} detik\")"
      ],
      "metadata": {
        "colab": {
          "base_uri": "https://localhost:8080/"
        },
        "id": "pmlfXX2qyICL",
        "outputId": "bc5356aa-8930-46f1-a72b-55d97a898acc"
      },
      "execution_count": 49,
      "outputs": [
        {
          "output_type": "stream",
          "name": "stdout",
          "text": [
            "hasil konversi: 99 jam, 30 menit, 0 detik\n"
          ]
        }
      ]
    },
    {
      "cell_type": "code",
      "source": [
        "tugas = 80\n",
        "uts = 70\n",
        "uas = 90\n",
        "pratikum =70\n",
        "kehadiran =85\n",
        "\n",
        "nilai_akhir = (0.2* tugas) + (0.2 * uts) + (0.2 * uas) + (0.2 * pratikum) + (0.2 * kehadiran)\n",
        "print(\"nilaimakhir = \", nilai_akhir)\n",
        "\n",
        "nilai_mahasiswa = 80\n",
        "standar_kelulusan = 73\n",
        "apakah_lulus = nilai_mahasiswa >= standar_kelulusan\n",
        "perlu_remedial = nilai_mahasiswa < standar_kelulusan\n",
        "print(f\"nilai mahasiwa: {nilai_mahasiswa}\")\n",
        "print(f\"standar kelulusan: {standar_kelulusan}\")\n",
        "print(f\"apakah mahasiswa lulus? {apakah lulus}\")\n",
        "print(f\"perlu remedial? {perlu_remedial}\")\n",
        "\n"
      ],
      "metadata": {
        "colab": {
          "base_uri": "https://localhost:8080/",
          "height": 106
        },
        "id": "yzUS9nM11T7V",
        "outputId": "34315278-9609-4e28-b687-77cb64f89351"
      },
      "execution_count": 54,
      "outputs": [
        {
          "output_type": "error",
          "ename": "SyntaxError",
          "evalue": "invalid syntax. Perhaps you forgot a comma? (ipython-input-3808402744.py, line 16)",
          "traceback": [
            "\u001b[0;36m  File \u001b[0;32m\"/tmp/ipython-input-3808402744.py\"\u001b[0;36m, line \u001b[0;32m16\u001b[0m\n\u001b[0;31m    print(f\"apakah mahasiswa lulus? {apakah lulus}\")\u001b[0m\n\u001b[0m                                     ^\u001b[0m\n\u001b[0;31mSyntaxError\u001b[0m\u001b[0;31m:\u001b[0m invalid syntax. Perhaps you forgot a comma?\n"
          ]
        }
      ]
    }
  ]
}