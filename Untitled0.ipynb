{
  "nbformat": 4,
  "nbformat_minor": 0,
  "metadata": {
    "colab": {
      "provenance": [],
      "authorship_tag": "ABX9TyM5Z9nE6/HvMm10KHNPW3lU",
      "include_colab_link": true
    },
    "kernelspec": {
      "name": "python3",
      "display_name": "Python 3"
    },
    "language_info": {
      "name": "python"
    }
  },
  "cells": [
    {
      "cell_type": "markdown",
      "metadata": {
        "id": "view-in-github",
        "colab_type": "text"
      },
      "source": [
        "<a href=\"https://colab.research.google.com/github/azizahulhusnah/Pemrograman-Dasar/blob/main/Untitled0.ipynb\" target=\"_parent\"><img src=\"https://colab.research.google.com/assets/colab-badge.svg\" alt=\"Open In Colab\"/></a>"
      ]
    },
    {
      "cell_type": "code",
      "execution_count": null,
      "metadata": {
        "colab": {
          "base_uri": "https://localhost:8080/"
        },
        "id": "07znWnc2dY5o",
        "outputId": "ddcbd104-4041-4468-bf01-10c96b6d0abf"
      },
      "outputs": [
        {
          "output_type": "stream",
          "name": "stdout",
          "text": [
            "First Name : Azizah\n",
            "Last Name  : Husnah\n",
            "Age        : 20\n",
            "Married?   : False\n"
          ]
        }
      ],
      "source": [
        "#Tugas 1\n",
        "\n",
        "firstName = \"Azizah\"       # string\n",
        "lastName = \"Husnah\"        # string\n",
        "age = 20                   # integer\n",
        "isMarried = False          # boolean\n",
        "\n",
        "# Menampilkan hasil\n",
        "print(\"First Name :\", firstName)\n",
        "print(\"Last Name  :\", lastName)\n",
        "print(\"Age        :\", age)\n",
        "print(\"Married?   :\",isMarried)"
      ]
    },
    {
      "cell_type": "code",
      "source": [
        "#Tugas 2\n",
        "\n",
        "data_diri = {\n",
        "    \"firstName\": \"Azizah\",   # string\n",
        "    \"lastName\": \"Husnah\",    # string\n",
        "    \"age\": 20,               # integer\n",
        "    \"isMarried\": False       # boolean\n",
        "}\n",
        "\n",
        "# Menampilkan hasil\n",
        "print(\"Data Diri Saya:\")\n",
        "print(\"First Name :\", data_diri[\"firstName\"])\n",
        "print(\"Last Name  :\", data_diri[\"lastName\"])\n",
        "print(\"Age        :\", data_diri[\"age\"])\n",
        "print(\"Married?   :\", data_diri[\"isMarried\"])"
      ],
      "metadata": {
        "colab": {
          "base_uri": "https://localhost:8080/"
        },
        "id": "UONB55FiekJy",
        "outputId": "e61f2a00-fc49-4884-8c5d-94b4c3323fe7"
      },
      "execution_count": null,
      "outputs": [
        {
          "output_type": "stream",
          "name": "stdout",
          "text": [
            "Data Diri Saya:\n",
            "First Name : Azizah\n",
            "Last Name  : Husnah\n",
            "Age        : 20\n",
            "Married?   : False\n"
          ]
        }
      ]
    },
    {
      "cell_type": "code",
      "source": [
        "# tUGAS 3\n",
        "\n",
        "inspeksi = [\n",
        "    \"pemahaman terhadap rencana dan desain\",\"ketersediaan bahan dan peralatan\",\"pengawasan pekerjaan\",\"kualitas konstruksi\",\"keselamatan kerja\",\"koordinasi dengan pemilik proyek\"]\n",
        "\n",
        "# Menampilkan hasil\n",
        "print(inspeksi[0])\n",
        "print(inspeksi[1])\n",
        "print(inspeksi[2])\n",
        "print(inspeksi[3])\n",
        "print(inspeksi[4])\n",
        "print(inspeksi[5])"
      ],
      "metadata": {
        "colab": {
          "base_uri": "https://localhost:8080/"
        },
        "id": "ckOYYXu7ez3a",
        "outputId": "202127ac-b911-4669-a470-00de7f4aef72"
      },
      "execution_count": null,
      "outputs": [
        {
          "output_type": "stream",
          "name": "stdout",
          "text": [
            "pemahaman terhadap rencana dan desain\n",
            "ketersediaan bahan dan peralatan\n",
            "pengawasan pekerjaan\n",
            "kualitas konstruksi\n",
            "keselamatan kerja\n",
            "koordinasi dengan pemilik proyek\n"
          ]
        }
      ]
    },
    {
      "cell_type": "code",
      "source": [
        "#Tugas 4\n",
        "\n",
        "# Membuat dictionary untuk waktu datang\n",
        "startTime = {\n",
        "    \"HH\": 9,\n",
        "    \"mm\": 23,\n",
        "    \"ss\": 57\n",
        "}\n",
        "\n",
        "# Membuat dictionary untuk waktu pulang\n",
        "endTime = {\n",
        "    \"HH\": 15,\n",
        "    \"mm\": 25,\n",
        "    \"ss\": 43\n",
        "}\n",
        "\n",
        "# Menampilkan hasil\n",
        "print(\"Waktu Datang:\", startTime[\"HH\"], \":\", startTime[\"mm\"], \":\", startTime[\"ss\"])\n",
        "print(\"Waktu Pulang:\", endTime[\"HH\"], \":\", endTime[\"mm\"], \":\",endTime[\"ss\"])"
      ],
      "metadata": {
        "colab": {
          "base_uri": "https://localhost:8080/"
        },
        "id": "KQ4BY9q8gM6d",
        "outputId": "30ac8243-6147-46ae-89ed-3ac1cd252948"
      },
      "execution_count": null,
      "outputs": [
        {
          "output_type": "stream",
          "name": "stdout",
          "text": [
            "Waktu Datang: 9 : 23 : 57\n",
            "Waktu Pulang: 15 : 25 : 43\n"
          ]
        }
      ]
    },
    {
      "cell_type": "code",
      "source": [
        "#Tugas 5\n",
        "\n",
        "# Katalog dari pemasok A dan B (set)\n",
        "katalog_A = {\"Laptop\", \"Mouse\", \"Keyboard\", \"Monitor\"}\n",
        "katalog_B = {\"Printer\", \"Scanner\", \"Mouse\", \"Laptop\"}\n",
        "\n",
        "# Produk yang sedang diskon (tuple)\n",
        "produk_diskon = (\"Laptop\", \"Monitor\", \"Headset\")\n",
        "\n",
        "# 1. Gabungkan katalog_A dan katalog_B menjadi satu set\n",
        "katalog_lengkap = katalog_A.union(katalog_B)\n",
        "\n",
        "# 2. Cari produk dari katalog_lengkap yang juga ada di produk_diskon\n",
        "#    (pakai intersection)\n",
        "produk_promo_aktif = katalog_lengkap.intersection(produk_diskon)\n",
        "\n",
        "# Tampilkan hasil\n",
        "print(\"Katalog A :\", katalog_A)\n",
        "print(\"Katalog B :\", katalog_B)\n",
        "print(\"Katalog Lengkap :\", katalog_lengkap)\n",
        "print(\"Produk Diskon :\", produk_diskon)\n",
        "print(\"Produk Promo Aktif :\", produk_promo_aktif)\n"
      ],
      "metadata": {
        "colab": {
          "base_uri": "https://localhost:8080/"
        },
        "id": "dcg5s1RPgfY9",
        "outputId": "aeef21f9-ddb5-4e09-9016-c1276b505f67"
      },
      "execution_count": null,
      "outputs": [
        {
          "output_type": "stream",
          "name": "stdout",
          "text": [
            "Katalog A : {'Monitor', 'Keyboard', 'Laptop', 'Mouse'}\n",
            "Katalog B : {'Laptop', 'Scanner', 'Printer', 'Mouse'}\n",
            "Katalog Lengkap : {'Printer', 'Scanner', 'Mouse', 'Monitor', 'Keyboard', 'Laptop'}\n",
            "Produk Diskon : ('Laptop', 'Monitor', 'Headset')\n",
            "Produk Promo Aktif : {'Monitor', 'Laptop'}\n"
          ]
        }
      ]
    }
  ]
}