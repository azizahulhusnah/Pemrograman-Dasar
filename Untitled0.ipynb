{
  "nbformat": 4,
  "nbformat_minor": 0,
  "metadata": {
    "colab": {
      "provenance": [],
      "authorship_tag": "ABX9TyPSouVYJXmvOfwCNwRLMaAw",
      "include_colab_link": true
    },
    "kernelspec": {
      "name": "python3",
      "display_name": "Python 3"
    },
    "language_info": {
      "name": "python"
    }
  },
  "cells": [
    {
      "cell_type": "markdown",
      "metadata": {
        "id": "view-in-github",
        "colab_type": "text"
      },
      "source": [
        "<a href=\"https://colab.research.google.com/github/azizahulhusnah/Pemrograman-Dasar/blob/main/Untitled0.ipynb\" target=\"_parent\"><img src=\"https://colab.research.google.com/assets/colab-badge.svg\" alt=\"Open In Colab\"/></a>"
      ]
    },
    {
      "cell_type": "code",
      "execution_count": 7,
      "metadata": {
        "colab": {
          "base_uri": "https://localhost:8080/"
        },
        "id": "I3jEUqpFc0Ff",
        "outputId": "f0fffea0-01b4-4ac4-ef4c-750acec1c7c3"
      },
      "outputs": [
        {
          "output_type": "stream",
          "name": "stdout",
          "text": [
            "azizah\n",
            "4232401017\n",
            "20\n",
            "ELEKTRO\n",
            "3\n",
            "pemerograman dasar\n",
            "False\n",
            "Tanjung Balai Karimun, 18 n0vember 2025\n",
            "perumahan taman marchelia blok B No 6\n",
            "perempuan\n",
            "islam\n",
            "81261347657\n",
            "@azizahulhusnah\n",
            "ulhusnahaazizah@gmail.com\n",
            "<class 'str'>\n",
            "<class 'str'>\n",
            "<class 'int'>\n",
            "<class 'str'>\n",
            "<class 'int'>\n",
            "<class 'str'>\n",
            "<class 'bool'>\n",
            "<class 'str'>\n",
            "<class 'str'>\n",
            "<class 'str'>\n",
            "<class 'str'>\n",
            "<class 'int'>\n",
            "<class 'str'>\n",
            "<class 'str'>\n"
          ]
        }
      ],
      "source": [
        "# Biodata Saya\n",
        "# ===============================\n",
        "# Praktikum Pemrograman Dasar\n",
        "# Google Colab Notebook\n",
        "# ===============================\n",
        "\n",
        "\n",
        "# 1. Definisi Variabel\n",
        "nama = \"azizah\"\n",
        "nim = \"4232401017\"\n",
        "umur = 20\n",
        "jurusan = \"ELEKTRO\"\n",
        "semester = 3\n",
        "matakuliah = 'pemerograman dasar'\n",
        "status_lulus = False\n",
        "tempat_dan_tanggal_lahir = \"Tanjung Balai Karimun, 18 n0vember 2025\"\n",
        "alamat = \"perumahan taman marchelia blok B No 6\"\n",
        "jenis_kelamin = \"perempuan\"\n",
        "agama = \"islam\"\n",
        "nomor_telepon = 81261347657\n",
        "instagram = \"@azizahulhusnah\"\n",
        "email = \"ulhusnahaazizah@gmail.com\"\n",
        "\n",
        "# 2. Menampilkan Data\n",
        "print (nama)\n",
        "print (nim)\n",
        "print (umur)\n",
        "print (jurusan)\n",
        "print (semester)\n",
        "print (matakuliah)\n",
        "print (status_lulus)\n",
        "print (tempat_dan_tanggal_lahir)\n",
        "print (alamat)\n",
        "print (jenis_kelamin)\n",
        "print (agama)\n",
        "print (nomor_telepon)\n",
        "print (instagram)\n",
        "print (email)\n",
        "\n",
        "# 3. menampilkan jenis type dataa\n",
        "print (type(nama))\n",
        "print (type(nim))\n",
        "print (type(umur))\n",
        "print (type(jurusan))\n",
        "print (type(semester))\n",
        "print (type(matakuliah))\n",
        "print (type(status_lulus))\n",
        "print (type(tempat_dan_tanggal_lahir))\n",
        "print (type(alamat))\n",
        "print (type(jenis_kelamin))\n",
        "print (type(agama))\n",
        "print (type(nomor_telepon))\n",
        "print (type(instagram))\n",
        "print (type(email))\n",
        "\n",
        "\n",
        "\n",
        "\n",
        "\n",
        "\n",
        "\n",
        "\n"
      ]
    },
    {
      "cell_type": "code",
      "source": [],
      "metadata": {
        "id": "iLwDn6uDpwD8"
      },
      "execution_count": 3,
      "outputs": []
    },
    {
      "cell_type": "markdown",
      "source": [
        "# Bagian Baru"
      ],
      "metadata": {
        "id": "VtHPNkbGpwQi"
      }
    },
    {
      "cell_type": "markdown",
      "source": [],
      "metadata": {
        "id": "x2lRWJVlnYgs"
      }
    }
  ]
}