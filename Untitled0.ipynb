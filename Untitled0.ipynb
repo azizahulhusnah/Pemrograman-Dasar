{
  "nbformat": 4,
  "nbformat_minor": 0,
  "metadata": {
    "colab": {
      "provenance": [],
      "authorship_tag": "ABX9TyOgIyAlSYiN7TfieNxdmLCb",
      "include_colab_link": true
    },
    "kernelspec": {
      "name": "python3",
      "display_name": "Python 3"
    },
    "language_info": {
      "name": "python"
    }
  },
  "cells": [
    {
      "cell_type": "markdown",
      "metadata": {
        "id": "view-in-github",
        "colab_type": "text"
      },
      "source": [
        "<a href=\"https://colab.research.google.com/github/azizahulhusnah/Pemrograman-Dasar/blob/main/Untitled0.ipynb\" target=\"_parent\"><img src=\"https://colab.research.google.com/assets/colab-badge.svg\" alt=\"Open In Colab\"/></a>"
      ]
    },
    {
      "cell_type": "code",
      "execution_count": 2,
      "metadata": {
        "colab": {
          "base_uri": "https://localhost:8080/"
        },
        "id": "32u3MOZK4zBa",
        "outputId": "4034d5cb-b962-43b5-e1b3-02f9f7c19a38"
      },
      "outputs": [
        {
          "output_type": "stream",
          "name": "stdout",
          "text": [
            "========================================\n",
            " SELAMAT DATANG DI WARUNG MAKAN jijah \n",
            "========================================\n",
            "Menu Makanan & Minuman:\n",
            "1. Nasi Goreng   - Rp 25.000\n",
            "2. Ayam Geprek   - Rp 20.000\n",
            "3. Es Teh Manis  - Rp 8.000\n",
            "4. Jus Alpukat   - Rp 15.000\n",
            "========================================\n",
            "Silakan masukkan nomor pilihan Anda (1-4): 2\n",
            "Anda memesan: Ayam Geprek dengan harga Rp 20000\n",
            "Total yang harus dibayar: Rp 20000. Masukkan jumlah uang Anda: Rp 50000\n",
            "========================================\n",
            "=== STRUK PEMBAYARAN ===\n",
            "Pesanan        : Ayam Geprek\n",
            "Harga Asli     : Rp 20000\n",
            "Diskon         : 30% (Rp 6000)\n",
            "Total Bayar    : Rp 14000\n",
            "Uang Dibayar   : Rp 50000\n",
            "Kembalian      : Rp 36000.0\n",
            "Terima kasih telah berbelanja!\n",
            "========================================\n"
          ]
        }
      ],
      "source": [
        "#TUGAS\n",
        "print(\"=\"*40)\n",
        "print(\" SELAMAT DATANG DI WARUNG MAKAN jijah \")\n",
        "print(\"=\"*40)\n",
        "print(\"Menu Makanan & Minuman:\")\n",
        "print(\"1. Nasi Goreng   - Rp 25.000\")\n",
        "print(\"2. Ayam Geprek   - Rp 20.000\")\n",
        "print(\"3. Es Teh Manis  - Rp 8.000\")\n",
        "print(\"4. Jus Alpukat   - Rp 15.000\")\n",
        "print(\"=\"*40)\n",
        "\n",
        "pilihan_str = input(\"Silakan masukkan nomor pilihan Anda (1-4): \")\n",
        "pilihan = int(pilihan_str)\n",
        "nama_pesanan = \"\"\n",
        "harga = 0\n",
        "\n",
        "# Pilihan menu\n",
        "if pilihan == 1:\n",
        "    nama_pesanan = \"Nasi Goreng\"\n",
        "    harga = 25000\n",
        "elif pilihan == 2:\n",
        "    nama_pesanan = \"Ayam Geprek\"\n",
        "    harga = 20000\n",
        "elif pilihan == 3:\n",
        "    nama_pesanan = \"Es Teh Manis\"\n",
        "    harga = 8000\n",
        "elif pilihan == 4:\n",
        "    nama_pesanan = \"Jus Alpukat\"\n",
        "    harga = 15000\n",
        "else:\n",
        "    print(\"Pilihan tidak valid. Silakan jalankan ulang program.\")\n",
        "    exit()\n",
        "\n",
        "print(f\"Anda memesan: {nama_pesanan} dengan harga Rp {harga}\")\n",
        "\n",
        "# Input jumlah bayar\n",
        "uang_dibayar_str = input(f\"Total yang harus dibayar: Rp {harga}. Masukkan jumlah uang Anda: Rp \")\n",
        "uang_dibayar = int(uang_dibayar_str)\n",
        "\n",
        "# --- Diskon berdasarkan kategori ---\n",
        "if harga >= 50000:\n",
        "    diskon = 0.70  # 70%\n",
        "elif harga >= 30000:\n",
        "    diskon = 0.50  # 50%\n",
        "elif harga >= 20000:\n",
        "    diskon = 0.30  # 30%\n",
        "else:\n",
        "    diskon = 0     # tidak ada diskon\n",
        "\n",
        "potongan = harga * diskon\n",
        "total_bayar = harga - potongan\n",
        "\n",
        "print(\"=\"*40)\n",
        "print(\"=== STRUK PEMBAYARAN ===\")\n",
        "print(f\"Pesanan        : {nama_pesanan}\")\n",
        "print(f\"Harga Asli     : Rp {harga}\")\n",
        "print(f\"Diskon         : {int(diskon*100)}% (Rp {int(potongan)})\")\n",
        "print(f\"Total Bayar    : Rp {int(total_bayar)}\")\n",
        "print(f\"Uang Dibayar   : Rp {uang_dibayar}\")\n",
        "\n",
        "if uang_dibayar >= total_bayar:\n",
        "    kembalian = uang_dibayar - total_bayar\n",
        "    print(f\"Kembalian      : Rp {kembalian}\")\n",
        "    print(\"Terima kasih telah berbelanja!\")\n",
        "else:\n",
        "    kurang = total_bayar - uang_dibayar\n",
        "    print(f\"Uang Anda kurang sebesar Rp {kurang}\")\n",
        "print(\"=\"*40)"
      ]
    }
  ]
}