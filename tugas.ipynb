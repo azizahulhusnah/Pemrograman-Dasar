{
  "nbformat": 4,
  "nbformat_minor": 0,
  "metadata": {
    "colab": {
      "provenance": [],
      "authorship_tag": "ABX9TyNFi+U0XQIsc8F7PMqsGlyS",
      "include_colab_link": true
    },
    "kernelspec": {
      "name": "python3",
      "display_name": "Python 3"
    },
    "language_info": {
      "name": "python"
    }
  },
  "cells": [
    {
      "cell_type": "markdown",
      "metadata": {
        "id": "view-in-github",
        "colab_type": "text"
      },
      "source": [
        "<a href=\"https://colab.research.google.com/github/azizahulhusnah/Pemrograman-Dasar/blob/main/tugas.ipynb\" target=\"_parent\"><img src=\"https://colab.research.google.com/assets/colab-badge.svg\" alt=\"Open In Colab\"/></a>"
      ]
    },
    {
      "cell_type": "code",
      "source": [
        "# Program Kasir Sederhana 1\n",
        "\n",
        "# Input data\n",
        "jumlah_item = int(input(\"Masukkan jumlah item yang dibeli: \"))\n",
        "harga_item = [float(input(f\"Masukkan harga item ke-{i+1}: Rp \")) for i in range(jumlah_item)]\n",
        "\n",
        "member = input(\"Apakah Anda member? (y/n): \").lower()\n",
        "\n",
        "# 1. Hitung subtotal\n",
        "subtotal = sum(harga_item)\n",
        "\n",
        "# 2. Evaluasi syarat diskon (boolean)\n",
        "syarat_diskon = (member == \"y\") and (subtotal > 100000)\n",
        "\n",
        "# 3. Hitung jumlah diskon (pakai dictionary mapping True/False)\n",
        "diskon = {True: subtotal * 0.15, False: 0}[syarat_diskon]\n",
        "\n",
        "# 4. Hitung harga setelah diskon\n",
        "harga_setelah_diskon = subtotal - diskon\n",
        "\n",
        "# 5. Hitung PPN 11%\n",
        "ppn = harga_setelah_diskon * 0.11\n",
        "\n",
        "# 6. Hitung total akhir\n",
        "total_akhir = harga_setelah_diskon + ppn\n",
        "\n",
        "# Output\n",
        "print(\"\\n===== STRUK PEMBELIAN =====\")\n",
        "print(f\"Subtotal            : Rp {subtotal:,.0f}\")\n",
        "print(f\"Diskon              : Rp {diskon:,.0f}\")\n",
        "print(f\"Harga setelah diskon: Rp {harga_setelah_diskon:,.0f}\")\n",
        "print(f\"PPN (11%)           : Rp {ppn:,.0f}\")\n",
        "print(f\"Total yang harus dibayar: Rp {total_akhir:,.0f}\")\n"
      ],
      "metadata": {
        "colab": {
          "base_uri": "https://localhost:8080/"
        },
        "id": "_xSBwOdDcffx",
        "outputId": "b05957ef-904a-4840-b131-6922ec793a9a"
      },
      "execution_count": null,
      "outputs": [
        {
          "output_type": "stream",
          "name": "stdout",
          "text": [
            "Masukkan jumlah item yang dibeli: 1\n",
            "Masukkan harga item ke-1: Rp 150000\n",
            "Apakah Anda member? (y/n): ya\n",
            "\n",
            "===== STRUK PEMBELIAN =====\n",
            "Subtotal            : Rp 150,000\n",
            "Diskon              : Rp 0\n",
            "Harga setelah diskon: Rp 150,000\n",
            "PPN (11%)           : Rp 16,500\n",
            "Total yang harus dibayar: Rp 166,500\n"
          ]
        }
      ]
    }
  ]
}